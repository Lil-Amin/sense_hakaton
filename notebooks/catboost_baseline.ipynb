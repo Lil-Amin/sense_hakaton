{
 "cells": [
  {
   "cell_type": "markdown",
   "id": "f1b7683d-be1b-4691-a383-e2c80c38de97",
   "metadata": {},
   "source": [
    "### Import libraries"
   ]
  },
  {
   "cell_type": "code",
   "execution_count": 110,
   "id": "0fd8e696-abe7-476d-9033-f297ef7c67ad",
   "metadata": {},
   "outputs": [],
   "source": [
    "from catboost import CatBoostClassifier\n",
    "import numpy as np\n",
    "import pandas as pd\n",
    "import os\n",
    "import random\n",
    "from sklearn.model_selection import GroupKFold\n",
    "from sklearn.metrics import precision_score"
   ]
  },
  {
   "cell_type": "code",
   "execution_count": 226,
   "id": "873b4996-4354-4c4a-8bf6-9efa529ea939",
   "metadata": {},
   "outputs": [],
   "source": [
    "def SeedEverything(seed=808):\n",
    "    \"\"\"Method to seed everything.\"\"\"\n",
    "    random.seed(seed)\n",
    "    os.environ[\"PYTHONHASHSEED\"] = str(seed)\n",
    "    np.random.seed(seed)"
   ]
  },
  {
   "cell_type": "code",
   "execution_count": 227,
   "id": "a283bc27-4725-425e-9f14-987c8dd45a4b",
   "metadata": {},
   "outputs": [],
   "source": [
    "def data_preprocessing(path=\"case_2_results.csv\"):\n",
    "    df = pd.read_csv(path)\n",
    "    \n",
    "    # Filling nans with spaces\n",
    "    df['resume_main_keywords'] = df['resume_main_keywords'].fillna(\"\")\n",
    "    df['vacancy_main_keywords'] = df['vacancy_main_keywords'].fillna(\"\")\n",
    "    \n",
    "    return df"
   ]
  },
  {
   "cell_type": "markdown",
   "id": "ac35ef5b-9b97-4fac-b289-76a413be94f1",
   "metadata": {},
   "source": [
    "### Main part"
   ]
  },
  {
   "cell_type": "code",
   "execution_count": 228,
   "id": "65cba651-5761-473c-badb-0b165e66dae9",
   "metadata": {},
   "outputs": [],
   "source": [
    "SeedEverything()"
   ]
  },
  {
   "cell_type": "code",
   "execution_count": 229,
   "id": "8165f354-bd03-4730-8a6a-bbb249794df0",
   "metadata": {},
   "outputs": [],
   "source": [
    "df = data_preprocessing(path=\"case_2_results.csv\")"
   ]
  },
  {
   "cell_type": "markdown",
   "id": "4d17f43c-b5e5-40eb-866c-b98fa9e52386",
   "metadata": {},
   "source": [
    "### Create kfold object"
   ]
  },
  {
   "cell_type": "code",
   "execution_count": 221,
   "id": "5ea1387a-e6a0-4ce2-9a9f-4300e944df3d",
   "metadata": {},
   "outputs": [],
   "source": [
    "# Define groups based on 'vacancy_id'\n",
    "groups = df['vacancy_id']\n",
    "\n",
    "# Initialize GroupKFold\n",
    "gkf = GroupKFold(n_splits=5)"
   ]
  },
  {
   "cell_type": "markdown",
   "id": "bfded501-8c20-4aed-891f-273946e80d6c",
   "metadata": {},
   "source": [
    "### Create catboost model"
   ]
  },
  {
   "cell_type": "code",
   "execution_count": 223,
   "id": "1abc7850-9401-4ad9-b020-9c7252365b3c",
   "metadata": {},
   "outputs": [],
   "source": [
    "# Initialize CatBoost classifier\n",
    "model = CatBoostClassifier(loss_function='Logloss', eval_metric='Precision', depth=3, iterations=40, learning_rate=0.1)\n",
    "\n",
    "# Specify categorical features\n",
    "cat_features = ['is_english', 'edu',]\n",
    "\n",
    "# Specify text features\n",
    "text_features = ['vacancy_main_keywords', 'resume_main_keywords']"
   ]
  },
  {
   "cell_type": "markdown",
   "id": "c35ab172-233a-41fc-b25e-f5fe03ef9422",
   "metadata": {},
   "source": [
    "### Train catboost and check precision score"
   ]
  },
  {
   "cell_type": "code",
   "execution_count": 224,
   "id": "7a450ad1-03fe-4a0d-b0ea-09ea4e38fd90",
   "metadata": {},
   "outputs": [
    {
     "name": "stdout",
     "output_type": "stream",
     "text": [
      "0:\tlearn: 0.5318352\ttest: 0.4029851\tbest: 0.4029851 (0)\ttotal: 7.51ms\tremaining: 293ms\n",
      "10:\tlearn: 0.5946970\ttest: 0.4482759\tbest: 0.4482759 (10)\ttotal: 59.7ms\tremaining: 157ms\n",
      "20:\tlearn: 0.6517413\ttest: 0.5666667\tbest: 0.5862069 (15)\ttotal: 111ms\tremaining: 100ms\n",
      "30:\tlearn: 0.7093023\ttest: 0.5925926\tbest: 0.5925926 (25)\ttotal: 162ms\tremaining: 47.1ms\n",
      "39:\tlearn: 0.7305389\ttest: 0.6000000\tbest: 0.6250000 (32)\ttotal: 210ms\tremaining: 0us\n",
      "\n",
      "bestTest = 0.625\n",
      "bestIteration = 32\n",
      "\n",
      "0:\tlearn: 0.8571429\ttest: 0.0000000\tbest: 0.0000000 (0)\ttotal: 6.18ms\tremaining: 241ms\n",
      "10:\tlearn: 0.6956522\ttest: 1.0000000\tbest: 1.0000000 (2)\ttotal: 58.4ms\tremaining: 154ms\n",
      "20:\tlearn: 0.7349398\ttest: 0.6000000\tbest: 1.0000000 (2)\ttotal: 110ms\tremaining: 99.9ms\n",
      "30:\tlearn: 0.7398374\ttest: 0.7037037\tbest: 1.0000000 (2)\ttotal: 164ms\tremaining: 47.7ms\n",
      "39:\tlearn: 0.7837838\ttest: 0.7647059\tbest: 1.0000000 (2)\ttotal: 212ms\tremaining: 0us\n",
      "\n",
      "bestTest = 1\n",
      "bestIteration = 2\n",
      "\n",
      "0:\tlearn: 1.0000000\ttest: 1.0000000\tbest: 1.0000000 (0)\ttotal: 5.96ms\tremaining: 233ms\n",
      "10:\tlearn: 0.7857143\ttest: 0.6551724\tbest: 1.0000000 (0)\ttotal: 61ms\tremaining: 161ms\n",
      "20:\tlearn: 0.7666667\ttest: 0.6774194\tbest: 1.0000000 (0)\ttotal: 118ms\tremaining: 107ms\n",
      "30:\tlearn: 0.7818182\ttest: 0.7083333\tbest: 1.0000000 (0)\ttotal: 173ms\tremaining: 50.1ms\n",
      "39:\tlearn: 0.7822581\ttest: 0.6666667\tbest: 1.0000000 (0)\ttotal: 221ms\tremaining: 0us\n",
      "\n",
      "bestTest = 1\n",
      "bestIteration = 0\n",
      "\n",
      "0:\tlearn: 0.7500000\ttest: 0.0000000\tbest: 0.0000000 (0)\ttotal: 6.45ms\tremaining: 252ms\n",
      "10:\tlearn: 0.9090909\ttest: 1.0000000\tbest: 1.0000000 (2)\ttotal: 66.5ms\tremaining: 175ms\n",
      "20:\tlearn: 0.8250000\ttest: 0.7500000\tbest: 1.0000000 (2)\ttotal: 125ms\tremaining: 113ms\n",
      "30:\tlearn: 0.8571429\ttest: 0.7500000\tbest: 1.0000000 (2)\ttotal: 184ms\tremaining: 53.3ms\n",
      "39:\tlearn: 0.8387097\ttest: 0.7368421\tbest: 1.0000000 (2)\ttotal: 236ms\tremaining: 0us\n",
      "\n",
      "bestTest = 1\n",
      "bestIteration = 2\n",
      "\n",
      "0:\tlearn: 0.5081967\ttest: 0.4634146\tbest: 0.4634146 (0)\ttotal: 6.33ms\tremaining: 247ms\n",
      "10:\tlearn: 0.6324324\ttest: 0.5434783\tbest: 1.0000000 (2)\ttotal: 63.6ms\tremaining: 168ms\n",
      "20:\tlearn: 0.7232704\ttest: 0.5581395\tbest: 1.0000000 (2)\ttotal: 121ms\tremaining: 109ms\n",
      "30:\tlearn: 0.7254902\ttest: 0.6176471\tbest: 1.0000000 (2)\ttotal: 178ms\tremaining: 51.6ms\n",
      "39:\tlearn: 0.7315436\ttest: 0.5384615\tbest: 1.0000000 (2)\ttotal: 230ms\tremaining: 0us\n",
      "\n",
      "bestTest = 1\n",
      "bestIteration = 2\n",
      "\n",
      "############\n",
      "Average precision score for 5 splits: 0.6613352385488608\n"
     ]
    }
   ],
   "source": [
    "precision_scores = []\n",
    "score = 0\n",
    "\n",
    "# Iterate over splits\n",
    "for train_idx, val_idx in gkf.split(df, df['target'], groups=groups):\n",
    "    train_df = df.iloc[train_idx]\n",
    "    val_df = df.iloc[val_idx]\n",
    "\n",
    "    # Train the model\n",
    "    model.fit(\n",
    "        train_df.drop(columns=['target', 'vacancy_id', 'resume_id']), train_df['target'],\n",
    "        cat_features=cat_features,\n",
    "        text_features=text_features,\n",
    "        eval_set=(val_df.drop(columns=['target', 'vacancy_id', 'resume_id']), val_df['target']),\n",
    "        verbose=10,\n",
    "        use_best_model=False,\n",
    "    )\n",
    "    \n",
    "    # Make predictions on the validation set\n",
    "    val_preds = model.predict(val_df.drop(columns=['target', 'vacancy_id', 'resume_id']))\n",
    "    # Convert predicted labels to boolean values\n",
    "    val_preds = val_preds == 'True'\n",
    "    # Calculate precision for the current fold and append it to the list\n",
    "    precision = precision_score(val_df['target'], val_preds)\n",
    "\n",
    "    precision_scores.append(precision)\n",
    "    score += precision\n",
    "\n",
    "print(\"############\")\n",
    "print(f\"Average precision score for {gkf.n_splits} splits:\", score / gkf.n_splits)"
   ]
  },
  {
   "cell_type": "markdown",
   "id": "96196292-e3ae-4d96-9378-afdbe8624fa3",
   "metadata": {},
   "source": [
    "### Saving the model"
   ]
  },
  {
   "cell_type": "code",
   "execution_count": 230,
   "id": "96497e95-e11b-4b05-83fd-cfc3e2916aa5",
   "metadata": {},
   "outputs": [
    {
     "name": "stdout",
     "output_type": "stream",
     "text": [
      "Model saved successfully to: catboost_model.cbm\n"
     ]
    }
   ],
   "source": [
    "# Specify the file path where you want to save the model\n",
    "model_path = 'catboost_model.cbm'\n",
    "\n",
    "# Save the model to the specified file path\n",
    "model.save_model(model_path)\n",
    "print(\"Model saved successfully to:\", model_path)"
   ]
  },
  {
   "cell_type": "markdown",
   "id": "e07dde45-b2f8-4c34-bbe6-d69cd1ed2860",
   "metadata": {},
   "source": [
    "### Example of model loading"
   ]
  },
  {
   "cell_type": "code",
   "execution_count": 231,
   "id": "b2f4f5ed-95e1-4a62-9808-fd281e4d6b31",
   "metadata": {},
   "outputs": [
    {
     "data": {
      "text/plain": [
       "<catboost.core.CatBoostClassifier at 0x2b866cc2b4f0>"
      ]
     },
     "execution_count": 231,
     "metadata": {},
     "output_type": "execute_result"
    }
   ],
   "source": [
    "# Specify the file path from which you want to load the model\n",
    "model_path = 'catboost_model.cbm'\n",
    "\n",
    "# Load the model from the specified file path\n",
    "loaded_model = CatBoostClassifier()\n",
    "loaded_model.load_model(model_path)"
   ]
  }
 ],
 "metadata": {
  "kernelspec": {
   "display_name": "Contrails",
   "language": "python",
   "name": "contrails"
  },
  "language_info": {
   "codemirror_mode": {
    "name": "ipython",
    "version": 3
   },
   "file_extension": ".py",
   "mimetype": "text/x-python",
   "name": "python",
   "nbconvert_exporter": "python",
   "pygments_lexer": "ipython3",
   "version": "3.9.17"
  },
  "widgets": {
   "application/vnd.jupyter.widget-state+json": {
    "state": {},
    "version_major": 2,
    "version_minor": 0
   }
  }
 },
 "nbformat": 4,
 "nbformat_minor": 5
}
